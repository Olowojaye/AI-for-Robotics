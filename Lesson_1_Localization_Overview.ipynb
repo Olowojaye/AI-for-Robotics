{
  "nbformat": 4,
  "nbformat_minor": 0,
  "metadata": {
    "colab": {
      "name": "Lesson_1_Localization_Overview.ipynb",
      "provenance": [],
      "collapsed_sections": [],
      "authorship_tag": "ABX9TyOxBztIbgJykB7KnSr5W7rG",
      "include_colab_link": true
    },
    "kernelspec": {
      "name": "python3",
      "display_name": "Python 3"
    },
    "language_info": {
      "name": "python"
    }
  },
  "cells": [
    {
      "cell_type": "markdown",
      "metadata": {
        "id": "view-in-github",
        "colab_type": "text"
      },
      "source": [
        "<a href=\"https://colab.research.google.com/github/Olowojaye/AI-for-Robotics/blob/main/Lesson_1_Localization_Overview.ipynb\" target=\"_parent\"><img src=\"https://colab.research.google.com/assets/colab-badge.svg\" alt=\"Open In Colab\"/></a>"
      ]
    },
    {
      "cell_type": "code",
      "execution_count": null,
      "metadata": {
        "colab": {
          "base_uri": "https://localhost:8080/"
        },
        "id": "jdCaeCTe7cVD",
        "outputId": "f52ba5aa-516e-4c54-84d9-d12cf6e52ada"
      },
      "outputs": [
        {
          "output_type": "stream",
          "name": "stdout",
          "text": [
            "[0.2, 0.2, 0.2, 0.2, 0.2]\n"
          ]
        }
      ],
      "source": [
        "p=[]\n",
        "n=5\n",
        "for i in range(n): \n",
        "    p.insert(i, 1/n)\n",
        "print(p)"
      ]
    },
    {
      "cell_type": "code",
      "source": [
        "#Program a function that returns a new distribution \n",
        "#q, shifted to the right by U units. If U=0, q should \n",
        "#be the same as p.\n",
        "\n",
        "p=[0, 1, 0, 0, 1]\n",
        "world=['green', 'red', 'red', 'green', 'green']\n",
        "measurements = ['red', 'green']\n",
        "pHit = 0.6\n",
        "pMiss = 0.2\n",
        "\n",
        "def sense(p, Z):\n",
        "    q=[]\n",
        "    for i in range(len(p)):\n",
        "        hit = (Z == world[i])\n",
        "        q.append(p[i] * (hit * pHit + (1-hit) * pMiss))\n",
        "    s = sum(q)\n",
        "    for i in range(len(q)):\n",
        "        q[i] = q[i] / s\n",
        "    return q\n",
        "\n",
        "def move(p, U):\n",
        "    #\n",
        "    k = len(p)\n",
        "    q = [0]*k\n",
        "    for i, p_i in enumerate(p):\n",
        "      index = (i+U)%k\n",
        "      q[index] = p_i\n",
        "    #\n",
        "    return q\n",
        "\n",
        "print(move(p, 1))\n"
      ],
      "metadata": {
        "colab": {
          "base_uri": "https://localhost:8080/"
        },
        "id": "nc3NkD9SfMc2",
        "outputId": "2bed9a9b-7322-4f12-cbe3-e35655dc1d7b"
      },
      "execution_count": 4,
      "outputs": [
        {
          "output_type": "stream",
          "name": "stdout",
          "text": [
            "[1, 0, 1, 0, 0]\n"
          ]
        }
      ]
    },
    {
      "cell_type": "code",
      "source": [
        "#Modify the move function to accommodate the added \n",
        "#probabilities of overshooting or undershooting \n",
        "#the intended destination.\n",
        "\n",
        "p=[0, 1, 0, 0, 0]\n",
        "world=['green', 'red', 'red', 'green', 'green']\n",
        "measurements = ['red', 'green']\n",
        "pHit = 0.6\n",
        "pMiss = 0.2\n",
        "pExact = 0.8\n",
        "pOvershoot = 0.1\n",
        "pUndershoot = 0.1\n",
        "\n",
        "def sense(p, Z):\n",
        "    q=[]\n",
        "    for i in range(len(p)):\n",
        "        hit = (Z == world[i])\n",
        "        q.append(p[i] * (hit * pHit + (1-hit) * pMiss))\n",
        "    s = sum(q)\n",
        "    for i in range(len(q)):\n",
        "        q[i] = q[i] / s\n",
        "    return q\n",
        "\n",
        "def move(p, U):\n",
        "    q = []\n",
        "    for i in range(len(p)):\n",
        "        q.append(p[(i-U)%len(p)])\n",
        "    q_new = [0]*len(q)\n",
        "    for i in range(len(q)):\n",
        "        if U >= 0:\n",
        "            q_new[i] = q[(i-1)%len(q)]*pUndershoot + q[i]*pExact + q[(i+1)%len(q)]*pOvershoot\n",
        "        else:\n",
        "            q_new[i] = q[(i+1)%len(q)]*pUndershoot + q[i]*pExact + q[(i-1)%len(q)]*pOvershoot\n",
        "    return q_new\n",
        "    \n",
        "\n",
        "print(move(p, 1))\n"
      ],
      "metadata": {
        "colab": {
          "base_uri": "https://localhost:8080/"
        },
        "id": "rkTy2bvdn7_h",
        "outputId": "ce334cab-e724-466c-9a2f-9dc5ef5f67b1"
      },
      "execution_count": 7,
      "outputs": [
        {
          "output_type": "stream",
          "name": "stdout",
          "text": [
            "[0.0, 0.1, 0.8, 0.1, 0.0]\n"
          ]
        }
      ]
    },
    {
      "cell_type": "code",
      "source": [
        "# Write code that makes the robot move twice and then prints \n",
        "# out the resulting distribution, starting with the initial \n",
        "# distribution p = [0, 1, 0, 0, 0]\n",
        "\n",
        "p=[0, 1, 0, 0, 0]\n",
        "world=['green', 'red', 'red', 'green', 'green']\n",
        "measurements = ['red', 'green']\n",
        "pHit = 0.6\n",
        "pMiss = 0.2\n",
        "pExact = 0.8\n",
        "pOvershoot = 0.1\n",
        "pUndershoot = 0.1\n",
        "\n",
        "def sense(p, Z):\n",
        "    q=[]\n",
        "    for i in range(len(p)):\n",
        "        hit = (Z == world[i])\n",
        "        q.append(p[i] * (hit * pHit + (1-hit) * pMiss))\n",
        "    s = sum(q)\n",
        "    for i in range(len(q)):\n",
        "        q[i] = q[i] / s\n",
        "    return q\n",
        "\n",
        "def move(p, U):\n",
        "    q = []\n",
        "    for i in range(len(p)):\n",
        "        s = pExact * p[(i-U) % len(p)]\n",
        "        s = s + pOvershoot * p[(i-U-1) % len(p)]\n",
        "        s = s + pUndershoot * p[(i-U+1) % len(p)]\n",
        "        q.append(s)\n",
        "    return q\n",
        "#\n",
        "# ADD CODE HERE\n",
        "p = move(p, 1)\n",
        "p = move(p, 1)\n",
        "\n",
        "print(p)\n",
        "\n",
        "# Make sure to print out p!\n"
      ],
      "metadata": {
        "colab": {
          "base_uri": "https://localhost:8080/"
        },
        "id": "hARzFhTzyK5O",
        "outputId": "672a48e6-c1de-4f22-c2cd-9aef3e2c0713"
      },
      "execution_count": 8,
      "outputs": [
        {
          "output_type": "stream",
          "name": "stdout",
          "text": [
            "[0.010000000000000002, 0.010000000000000002, 0.16000000000000003, 0.6600000000000001, 0.16000000000000003]\n"
          ]
        }
      ]
    },
    {
      "cell_type": "code",
      "source": [
        "#write code that moves 1000 times and then prints the \n",
        "#resulting probability distribution.\n",
        "\n",
        "p=[0, 1, 0, 0, 0]\n",
        "world=['green', 'red', 'red', 'green', 'green']\n",
        "measurements = ['red', 'green']\n",
        "pHit = 0.6\n",
        "pMiss = 0.2\n",
        "pExact = 0.8\n",
        "pOvershoot = 0.1\n",
        "pUndershoot = 0.1\n",
        "\n",
        "def sense(p, Z):\n",
        "    q=[]\n",
        "    for i in range(len(p)):\n",
        "        hit = (Z == world[i])\n",
        "        q.append(p[i] * (hit * pHit + (1-hit) * pMiss))\n",
        "    s = sum(q)\n",
        "    for i in range(len(q)):\n",
        "        q[i] = q[i] / s\n",
        "    return q\n",
        "\n",
        "def move(p, U):\n",
        "    q = []\n",
        "    for i in range(len(p)):\n",
        "        s = pExact * p[(i-U) % len(p)]\n",
        "        s = s + pOvershoot * p[(i-U-1) % len(p)]\n",
        "        s = s + pUndershoot * p[(i-U+1) % len(p)]\n",
        "        q.append(s)\n",
        "    return q\n",
        "#\n",
        "# ADD CODE HERE\n",
        "k = 1\n",
        "while k <= 1000:\n",
        "  p = move(p, 1)\n",
        "  k += 1\n",
        "print(p)\n"
      ],
      "metadata": {
        "colab": {
          "base_uri": "https://localhost:8080/"
        },
        "id": "c4EyxTGuzHsr",
        "outputId": "fb745267-4a38-40a0-d7d5-2ffd7c58859a"
      },
      "execution_count": 9,
      "outputs": [
        {
          "output_type": "stream",
          "name": "stdout",
          "text": [
            "[0.20000000000000365, 0.20000000000000373, 0.20000000000000365, 0.2000000000000035, 0.2000000000000035]\n"
          ]
        }
      ]
    }
  ]
}