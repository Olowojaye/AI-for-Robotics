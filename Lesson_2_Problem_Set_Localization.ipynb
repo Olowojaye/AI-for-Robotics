{
  "nbformat": 4,
  "nbformat_minor": 0,
  "metadata": {
    "colab": {
      "name": "Lesson_2_Problem_Set_Localization.ipynb",
      "provenance": [],
      "authorship_tag": "ABX9TyPt7l6JPPs6xhRK6baoYayD",
      "include_colab_link": true
    },
    "kernelspec": {
      "name": "python3",
      "display_name": "Python 3"
    },
    "language_info": {
      "name": "python"
    }
  },
  "cells": [
    {
      "cell_type": "markdown",
      "metadata": {
        "id": "view-in-github",
        "colab_type": "text"
      },
      "source": [
        "<a href=\"https://colab.research.google.com/github/Olowojaye/AI-for-Robotics/blob/main/Lesson_2_Problem_Set_Localization.ipynb\" target=\"_parent\"><img src=\"https://colab.research.google.com/assets/colab-badge.svg\" alt=\"Open In Colab\"/></a>"
      ]
    },
    {
      "cell_type": "code",
      "execution_count": 37,
      "metadata": {
        "id": "yRFdGSjBp-mF",
        "colab": {
          "base_uri": "https://localhost:8080/"
        },
        "outputId": "62107ce9-0f18-4c3f-c219-5141c49ff32c"
      },
      "outputs": [
        {
          "output_type": "stream",
          "name": "stdout",
          "text": [
            "[[0.01106,0.02464,0.06800,0.04472,0.02465],\n",
            " [0.00715,0.01017,0.08697,0.07988,0.00935],\n",
            " [0.00740,0.00894,0.11273,0.35351,0.04066],\n",
            " [0.00911,0.00715,0.01435,0.04313,0.03643]]\n"
          ]
        }
      ],
      "source": [
        "# The function localize takes the following arguments:\n",
        "#\n",
        "# colors:\n",
        "#        2D list, each entry either 'R' (for red cell) or 'G' (for green cell)\n",
        "#\n",
        "# measurements:\n",
        "#        list of measurements taken by the robot, each entry either 'R' or 'G'\n",
        "#\n",
        "# motions:\n",
        "#        list of actions taken by the robot, each entry of the form [dy,dx],\n",
        "#        where dx refers to the change in the x-direction (positive meaning\n",
        "#        movement to the right) and dy refers to the change in the y-direction\n",
        "#        (positive meaning movement downward)\n",
        "#        NOTE: the *first* coordinate is change in y; the *second* coordinate is\n",
        "#              change in x\n",
        "#\n",
        "# sensor_right:\n",
        "#        float between 0 and 1, giving the probability that any given\n",
        "#        measurement is correct; the probability that the measurement is\n",
        "#        incorrect is 1-sensor_right\n",
        "#\n",
        "# p_move:\n",
        "#        float between 0 and 1, giving the probability that any given movement\n",
        "#        command takes place; the probability that the movement command fails\n",
        "#        (and the robot remains still) is 1-p_move; the robot will NOT overshoot\n",
        "#        its destination in this exercise\n",
        "#\n",
        "# The function should RETURN (not just show or print) a 2D list (of the same\n",
        "# dimensions as colors) that gives the probabilities that the robot occupies\n",
        "# each cell in the world.\n",
        "#\n",
        "# Compute the probabilities by assuming the robot initially has a uniform\n",
        "# probability of being in any cell.\n",
        "#\n",
        "# Also assume that at each step, the robot:\n",
        "# 1) first makes a movement,\n",
        "# 2) then takes a measurement.\n",
        "#\n",
        "# Motion:\n",
        "#  [0,0] - stay\n",
        "#  [0,1] - right\n",
        "#  [0,-1] - left\n",
        "#  [1,0] - down\n",
        "#  [-1,0] - up\n",
        "\n",
        "def localize(colors,measurements,motions,sensor_right,p_move):\n",
        "    # initializes p to a uniform distribution over a grid of the same dimensions as colors\n",
        "    pinit = 1.0 / float(len(colors)) / float(len(colors[0]))\n",
        "    p = [[pinit for row in range(len(colors[0]))] for col in range(len(colors))]\n",
        "    \n",
        "    # >>> Insert your code here <<<\n",
        "    def move(p, motion, p_move):\n",
        "      # Effect motion in x-direction\n",
        "      q = [[0 for i in range(len(p[0]))] for i in range(len(p))]\n",
        "      for i in range(len(p)):\n",
        "        for j in range(len(p[i])):\n",
        "          s =  p_move * p[i][(j-motion[1]) % len(p[i])] + (1-p_move) * p[i][j]\n",
        "          q[i][j] = s\n",
        "      # Effect motion in y-direction\n",
        "      r = [[0 for i in range(len(p[0]))] for i in range(len(p))]\n",
        "      for i in range(len(p[1])):\n",
        "        for j in range(len(p)):\n",
        "          t = p_move * q[(j-motion[0]) % len(p)][i] + (1-p_move) * q[j][i]\n",
        "          r[j][i] = t\n",
        "      return r\n",
        "    \n",
        "    def sense(p, colors, measurement, p_right):\n",
        "      q=[[0 for i in range(len(p[0]))] for i in range(len(p))]\n",
        "      for i in range(len(p)):\n",
        "        for j in range(len(p[i])):\n",
        "          right = (measurement == colors[i][j])\n",
        "          q[i][j] = p[i][j] * (right * p_right + (1-right) * (1-p_right))\n",
        "      s = sum([sum(i) for i in q])\n",
        "      for i in range(len(q)):\n",
        "        for j in range(len(q[i])):\n",
        "          q[i][j] = q[i][j] / s\n",
        "      return q\n",
        "    \n",
        "    for i in range(len(motions)):\n",
        "      p = move(p, motions[i], p_move)\n",
        "      p = sense(p, colors, measurements[i], sensor_right)\n",
        "    return p\n",
        "\n",
        "def show(p):\n",
        "    rows = ['[' + ','.join(map(lambda x: '{0:.5f}'.format(x),r)) + ']' for r in p]\n",
        "    print('[' + ',\\n '.join(rows) + ']')\n",
        "    \n",
        "#############################################################\n",
        "# For the following test case, your output should be \n",
        "# [[0.01105, 0.02464, 0.06799, 0.04472, 0.02465],\n",
        "#  [0.00715, 0.01017, 0.08696, 0.07988, 0.00935],\n",
        "#  [0.00739, 0.00894, 0.11272, 0.35350, 0.04065],\n",
        "#  [0.00910, 0.00715, 0.01434, 0.04313, 0.03642]]\n",
        "# (within a tolerance of +/- 0.001 for each entry)\n",
        "\n",
        "colors = [['R','G','G','R','R'],\n",
        "          ['R','R','G','R','R'],\n",
        "          ['R','R','G','G','R'],\n",
        "          ['R','R','R','R','R']]\n",
        "measurements = ['G','G','G','G','G']\n",
        "motions = [[0,0],[0,1],[1,0],[1,0],[0,1]]\n",
        "p = localize(colors,measurements,motions,sensor_right = 0.7, p_move = 0.8)\n",
        "show(p) # displays your answer\n"
      ]
    },
    {
      "cell_type": "code",
      "source": [
        "# To test for sense function independently\n",
        "\n",
        "def sense(p, colors, measurement, p_right):\n",
        "  q=[[0 for i in range(len(p[0]))] for i in range(len(p))]\n",
        "  for i in range(len(p)):\n",
        "    for j in range(len(p[i])):\n",
        "      right = (measurement == colors[i][j])\n",
        "      q[i][j] = p[i][j] * (right * p_right + (1-right) * (1-p_right))\n",
        "  s = sum([sum(i) for i in q])\n",
        "  for i in range(len(q)):\n",
        "    for j in range(len(q[i])):\n",
        "      q[i][j] = q[i][j] / s\n",
        "  return q\n",
        "print(sense(p, colors, measurements[0], p_right = 0.7))"
      ],
      "metadata": {
        "colab": {
          "base_uri": "https://localhost:8080/"
        },
        "id": "Yf_1EnsslY2m",
        "outputId": "191692f0-9536-441c-9b41-c6d1efa6317a"
      },
      "execution_count": 36,
      "outputs": [
        {
          "output_type": "stream",
          "name": "stdout",
          "text": [
            "[[0.005942555223584472, 0.030892316688607816, 0.08524910400705357, 0.024031160966948614, 0.013245536737861904], [0.003843494668582577, 0.005465164715415639, 0.10903143849995182, 0.04292270596196567, 0.005024216230771144], [0.003974685953270195, 0.004805564089625112, 0.14133202850643542, 0.44320101504532544, 0.021844639555488304], [0.004893024946083526, 0.003843494668582577, 0.007709993364514887, 0.023175988148244134, 0.019571872021687062]]\n"
          ]
        }
      ]
    },
    {
      "cell_type": "code",
      "source": [
        "# To test for move function independently\n",
        "\n",
        "def move(p, motion, p_move):\n",
        "  # Effect motion in x-direction\n",
        "  q = [[0 for i in range(len(p[0]))] for i in range(len(p))]\n",
        "  for i in range(len(p)):\n",
        "    for j in range(len(p[i])):\n",
        "      s =  p_move * p[i][(j-motion[1]) % len(p[i])] + (1-p_move) * p[i][j]\n",
        "      q[i][j] = s\n",
        "  # Effect motion in y-direction\n",
        "  r = [[0 for i in range(len(p[0]))] for i in range(len(p))]\n",
        "  for i in range(len(p[1])):\n",
        "    for j in range(len(p)):\n",
        "      t = p_move * q[(j-motion[0]) % len(p)][i] + (1-p_move) * q[j][i]\n",
        "      r[j][i] = t\n",
        "  return r\n",
        "print(move([[0, 0, 0], [0, 0, 0], [0, 0, 0], [0, 0, 1]], motions[2], p_move=0.8))"
      ],
      "metadata": {
        "colab": {
          "base_uri": "https://localhost:8080/"
        },
        "id": "cfhU36MibD0x",
        "outputId": "896d3ef5-d810-46a7-88d5-f5344791525f"
      },
      "execution_count": 35,
      "outputs": [
        {
          "output_type": "stream",
          "name": "stdout",
          "text": [
            "[[0.0, 0.0, 0.8], [0.0, 0.0, 0.0], [0.0, 0.0, 0.0], [0.0, 0.0, 0.19999999999999996]]\n"
          ]
        }
      ]
    }
  ]
}